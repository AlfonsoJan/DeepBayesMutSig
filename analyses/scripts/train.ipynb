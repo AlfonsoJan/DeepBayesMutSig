{
 "cells": [
  {
   "cell_type": "code",
   "execution_count": 12,
   "metadata": {},
   "outputs": [],
   "source": [
    "from functools import partial\n",
    "import os\n",
    "from pathlib import Path\n",
    "import pickle\n",
    "from typing import Literal, NamedTuple\n",
    "\n",
    "from gabenet.mcmc import sample_markov_chain\n",
    "from gabenet.nets import MultinomialDirichletBelieve\n",
    "from gabenet.utils import freeze_trainable_states, perplexity\n",
    "import haiku as hk\n",
    "import jax\n",
    "from jax import random\n",
    "import jax.numpy as jnp\n",
    "\n",
    "from dataset import load_mutation_spectrum, COSMIC_WEIGHTS"
   ]
  },
  {
   "cell_type": "code",
   "execution_count": 13,
   "metadata": {},
   "outputs": [
    {
     "name": "stdout",
     "output_type": "stream",
     "text": [
      "CONTEXT = 96\n",
      "RANDOM_SEED = 43\n",
      "N_BURNIN = 200\n",
      "LOG_EVERY = 200\n",
      "N_SAMPLES = 2000\n",
      "MODEL = multinomial_dirichlet_believe\n",
      "n_topics = 86\n",
      "HIDDEN_LAYER_SIZES = [41, 86]\n",
      "GAMMA_0 = 10.0\n"
     ]
    }
   ],
   "source": [
    "import os\n",
    "ARTEFACT_DIR = Path(os.path.abspath(\"\")).parent\n",
    "# Training hyperparameters\n",
    "# Pseudo-random number generator sequence.\n",
    "RANDOM_SEED = 43\n",
    "N_BURNIN = 200\n",
    "LOG_EVERY = 200\n",
    "N_SAMPLES = 2_000\n",
    "CONTEXT = 96\n",
    "\n",
    "# Print out training hyperparameters for logging.\n",
    "print(f\"CONTEXT = {CONTEXT}\")\n",
    "print(f\"RANDOM_SEED = {RANDOM_SEED}\")\n",
    "print(f\"N_BURNIN = {N_BURNIN}\")\n",
    "print(f\"LOG_EVERY = {LOG_EVERY}\")\n",
    "print(f\"N_SAMPLES = {N_SAMPLES}\")\n",
    "\n",
    "# Model hyperparameters.\n",
    "MODEL: Literal[\n",
    "    \"multinomial_dirichlet_believe\", \"poisson_gamma_believe\"\n",
    "] = \"multinomial_dirichlet_believe\"\n",
    "n_topics = len(COSMIC_WEIGHTS)\n",
    "# Network config after pruning.\n",
    "# Updated from 78 to 86 in 3.4\n",
    "HIDDEN_LAYER_SIZES = [41, 86]\n",
    "GAMMA_0 = 10.0\n",
    "_bottom_layer_name = (\n",
    "    f\"{MODEL}/~/multinomial_layer\"\n",
    "    if MODEL == \"multinomial_dirichlet_believe\"\n",
    "    else f\"{MODEL}/~/poisson_layer\"\n",
    ")\n",
    "# Print out model hyperparameters for logging.\n",
    "print(f\"MODEL = {MODEL}\")\n",
    "print(f\"n_topics = {n_topics}\")\n",
    "print(f\"HIDDEN_LAYER_SIZES = {HIDDEN_LAYER_SIZES}\")\n",
    "print(f\"GAMMA_0 = {GAMMA_0}\")\n",
    "\n",
    "X_train, X_test, n_features = load_mutation_spectrum(context=CONTEXT)"
   ]
  },
  {
   "cell_type": "code",
   "execution_count": 14,
   "metadata": {},
   "outputs": [],
   "source": [
    "key_seq = hk.PRNGSequence(43)\n",
    "\n",
    "class TrainState(NamedTuple):\n",
    "    params: hk.Params\n",
    "    state: hk.State\n",
    "    key: jax.Array  # type: ignore\n",
    "    step: int\n",
    "\n",
    "@hk.transform_with_state\n",
    "def kernel(X=X_train, freeze_phi=True):\n",
    "    \"\"\"Advance the Markov chain by one step.\"\"\"\n",
    "    model = MultinomialDirichletBelieve(\n",
    "        HIDDEN_LAYER_SIZES, n_features, gamma_0=GAMMA_0\n",
    "    )\n",
    "    if freeze_phi:\n",
    "        model.layers.layers[-1].set_training(False)\n",
    "    # Do one Gibbs sampling step.\n",
    "    model(X)\n",
    "    \n",
    "def probability(params, state):\n",
    "    bottom_params = params.get(\"multinomial_dirichlet_believe/~/multinomial_layer\", {})\n",
    "    bottom_state = state[\"multinomial_dirichlet_believe/~/multinomial_layer\"]\n",
    "    phi = bottom_params.get(\"phi\", bottom_state.get(\"phi\"))\n",
    "    theta = bottom_state[\"theta\"]\n",
    "    return theta @ phi\n",
    "\n",
    "def initialise(key) -> TrainState:\n",
    "    \"\"\"Initialise training state.\"\"\"\n",
    "    key, subkey = random.split(key)\n",
    "    keys = random.split(subkey, jax.device_count())\n",
    "    params, state = jax.vmap(partial(kernel.init, freeze_phi=False), in_axes=[0, None])(\n",
    "        keys, X_train\n",
    "    )\n",
    "    params, state = freeze_trainable_states(state, variable_names=[\"phi\"])\n",
    "    params[\"multinomial_dirichlet_believe/~/multinomial_layer\"][\"phi\"] = jnp.array(COSMIC_WEIGHTS)\n",
    "    return TrainState(params, state, key, 0)\n",
    "\n",
    "def evaluate(params, states, X, axis=[0, 1]):\n",
    "    \"\"\"Compute perplexity over chains and samples by default (axis=[0, 1]).\"\"\"\n",
    "    probs = probability(params, states).mean(axis)\n",
    "    return perplexity(X, probs)"
   ]
  },
  {
   "cell_type": "code",
   "execution_count": null,
   "metadata": {},
   "outputs": [],
   "source": [
    "key = jax.random.PRNGKey(RANDOM_SEED)\n",
    "train_state = initialise(key)"
   ]
  }
 ],
 "metadata": {
  "kernelspec": {
   "display_name": "venv",
   "language": "python",
   "name": "python3"
  },
  "language_info": {
   "codemirror_mode": {
    "name": "ipython",
    "version": 3
   },
   "file_extension": ".py",
   "mimetype": "text/x-python",
   "name": "python",
   "nbconvert_exporter": "python",
   "pygments_lexer": "ipython3",
   "version": "3.10.1"
  }
 },
 "nbformat": 4,
 "nbformat_minor": 2
}
