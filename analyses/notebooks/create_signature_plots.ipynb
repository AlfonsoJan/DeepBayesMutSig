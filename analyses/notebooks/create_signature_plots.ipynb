{
 "cells": [
  {
   "cell_type": "code",
   "execution_count": 1,
   "metadata": {},
   "outputs": [
    {
     "name": "stderr",
     "output_type": "stream",
     "text": [
      "2023-12-12 19:57:41 - INFO - Creating siganture plots for context file: '96'\n",
      "100%|██████████| 48/48 [00:37<00:00,  1.29it/s]\n",
      "2023-12-12 19:58:19 - INFO - Creating siganture plots for context file: '1536'\n",
      "100%|██████████| 48/48 [01:57<00:00,  2.44s/it]\n",
      "2023-12-12 20:00:16 - INFO - Creating siganture plots for context file: '24576'\n",
      "100%|██████████| 48/48 [03:37<00:00,  4.53s/it]\n"
     ]
    }
   ],
   "source": [
    "from GenomeSigInfer.figures import signature_plots\n",
    "from pathlib import Path\n",
    "nmf_folder = Path(\"../NMF\") # Folder where the NMF files are located\n",
    "figure_folder = Path(\"../figures\") # Folder where the plots are saved to\n",
    "sig_plots = signature_plots.SigPlots(nmf_folder, figure_folder)\n",
    "sig_plots.create_plots()"
   ]
  },
  {
   "cell_type": "code",
   "execution_count": 2,
   "metadata": {},
   "outputs": [
    {
     "name": "stderr",
     "output_type": "stream",
     "text": [
      "2023-12-12 20:03:54 - INFO - Creating Signature plot for SBS2\n"
     ]
    },
    {
     "name": "stderr",
     "output_type": "stream",
     "text": [
      "2023-12-12 20:04:08 - INFO - Created Signature plot for SBS2\n",
      "2023-12-12 20:04:08 - INFO - Creating Signature plot for SBS7a\n",
      "2023-12-12 20:04:16 - INFO - Created Signature plot for SBS7a\n",
      "2023-12-12 20:04:16 - INFO - Creating Signature plot for SBS10a\n",
      "2023-12-12 20:04:24 - INFO - Created Signature plot for SBS10a\n",
      "2023-12-12 20:04:24 - INFO - Creating Signature plot for SBS13\n",
      "2023-12-12 20:04:32 - INFO - Created Signature plot for SBS13\n",
      "2023-12-12 20:04:32 - INFO - Creating Signature plot for SBS17b\n",
      "2023-12-12 20:04:40 - INFO - Created Signature plot for SBS17b\n",
      "2023-12-12 20:04:40 - INFO - Creating Signature plot for SBS22a\n",
      "2023-12-12 20:04:48 - INFO - Created Signature plot for SBS22a\n"
     ]
    }
   ],
   "source": [
    "SBSs = [\"SBS2\", \"SBS7a\", \"SBS10a\", \"SBS13\", \"SBS17b\", \"SBS22a\"]\n",
    "sig_plots.create_expected_plots(SBSs)"
   ]
  }
 ],
 "metadata": {
  "kernelspec": {
   "display_name": "venv",
   "language": "python",
   "name": "python3"
  },
  "language_info": {
   "codemirror_mode": {
    "name": "ipython",
    "version": 3
   },
   "file_extension": ".py",
   "mimetype": "text/x-python",
   "name": "python",
   "nbconvert_exporter": "python",
   "pygments_lexer": "ipython3",
   "version": "3.10.5"
  }
 },
 "nbformat": 4,
 "nbformat_minor": 2
}
