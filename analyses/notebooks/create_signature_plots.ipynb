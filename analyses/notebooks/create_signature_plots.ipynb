{
 "cells": [
  {
   "cell_type": "code",
   "execution_count": 1,
   "metadata": {},
   "outputs": [
    {
     "name": "stderr",
     "output_type": "stream",
     "text": [
      "2023-12-10 19:09:47 - INFO - Creating siganture plots for context file: '96'\n",
      "100%|██████████| 48/48 [00:40<00:00,  1.20it/s]\n",
      "2023-12-10 19:10:27 - INFO - Creating siganture plots for context file: '1536'\n",
      "100%|██████████| 48/48 [02:18<00:00,  2.90s/it]\n",
      "2023-12-10 19:12:46 - INFO - Creating siganture plots for context file: '24576'\n",
      "100%|██████████| 48/48 [04:28<00:00,  5.60s/it]\n"
     ]
    }
   ],
   "source": [
    "from GenomeSigInfer.figures import signature_plots\n",
    "from pathlib import Path\n",
    "nmf_folder = Path(\"../NMF\") # Folder where the NMF files are located\n",
    "figure_folder = Path(\"../figures\") # Folder where the plots are saved to\n",
    "sig_plots = signature_plots.SigPlots(nmf_folder, figure_folder)\n",
    "sig_plots.create_plots()"
   ]
  },
  {
   "cell_type": "code",
   "execution_count": 2,
   "metadata": {},
   "outputs": [
    {
     "name": "stderr",
     "output_type": "stream",
     "text": [
      "2023-12-10 19:17:15 - INFO - Creating Signature plot for SBS2\n",
      "2023-12-10 19:17:24 - INFO - Created Signature plot for SBS2\n",
      "2023-12-10 19:17:24 - INFO - Creating Signature plot for SBS7a\n",
      "2023-12-10 19:17:34 - INFO - Created Signature plot for SBS7a\n",
      "2023-12-10 19:17:34 - INFO - Creating Signature plot for SBS10a\n",
      "2023-12-10 19:17:44 - INFO - Created Signature plot for SBS10a\n",
      "2023-12-10 19:17:44 - INFO - Creating Signature plot for SBS13\n",
      "2023-12-10 19:17:53 - INFO - Created Signature plot for SBS13\n",
      "2023-12-10 19:17:53 - INFO - Creating Signature plot for SBS17a\n",
      "2023-12-10 19:18:10 - INFO - Created Signature plot for SBS17a\n",
      "2023-12-10 19:18:11 - INFO - Creating Signature plot for SBS17b\n",
      "2023-12-10 19:18:20 - INFO - Created Signature plot for SBS17b\n"
     ]
    }
   ],
   "source": [
    "sig_plots.create_expected_plots()"
   ]
  }
 ],
 "metadata": {
  "kernelspec": {
   "display_name": "venv",
   "language": "python",
   "name": "python3"
  },
  "language_info": {
   "codemirror_mode": {
    "name": "ipython",
    "version": 3
   },
   "file_extension": ".py",
   "mimetype": "text/x-python",
   "name": "python",
   "nbconvert_exporter": "python",
   "pygments_lexer": "ipython3",
   "version": "3.10.5"
  }
 },
 "nbformat": 4,
 "nbformat_minor": 2
}
