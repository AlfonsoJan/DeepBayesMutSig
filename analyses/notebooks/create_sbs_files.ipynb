{
 "cells": [
  {
   "cell_type": "code",
   "execution_count": 1,
   "metadata": {},
   "outputs": [],
   "source": [
    "# Imports\n",
    "from pathlib import Path\n",
    "from GenomeSigInfer import download\n",
    "from GenomeSigInfer.sbs import SBSMatrixGenerator"
   ]
  },
  {
   "cell_type": "code",
   "execution_count": 2,
   "metadata": {},
   "outputs": [],
   "source": [
    "# Variables\n",
    "folder_ref_genome_download = Path(\"../ref_genome\")\n",
    "# Reference genome\n",
    "ref_genome = \"GRCh37\""
   ]
  },
  {
   "cell_type": "markdown",
   "metadata": {},
   "source": [
    "# Download the reference genome 'GRCh37'\n",
    "Download the reference genome to the 'ref_genome' folder"
   ]
  },
  {
   "cell_type": "code",
   "execution_count": 5,
   "metadata": {},
   "outputs": [
    {
     "name": "stderr",
     "output_type": "stream",
     "text": [
      "2023-12-03 18:44:29 - INFO - Beginning downloading of reference GRCh37. This may take up to 40 minutes to complete.\n",
      "2023-12-03 18:49:17 - INFO - Finished downloading the file\n",
      "2023-12-03 18:49:46 - INFO - Finished downloading GRCh37 to '..\\ref_genome'!\n"
     ]
    }
   ],
   "source": [
    "download.download_ref_genome(folder_ref_genome_download, genome=ref_genome)"
   ]
  },
  {
   "cell_type": "markdown",
   "metadata": {},
   "source": [
    "# Create SBS Files\n",
    "\n",
    "Create mutliple SBS files. With increasing context.\n",
    "\n",
    "The sbs.96.txt file contains all of the following the pyrimidine single nucleotide variants, N[{C > A, G, or T} or {T > A, G, or C}]N. 4 possible starting nucleotides x 6 pyrimidine variants x 4 ending nucleotides = 96 total combinations.\n",
    "\n",
    "The sbs.1536.txt file contains all of the following the pyrimidine single nucleotide variants, NN[{C > A, G, or T} or {T > A, G, or C}]NN. 16 (4x4) possible starting nucleotides x 6 pyrimidine variants x 16 (4x4) possible ending nucleotides = 1536 total combinations.\n",
    "\n",
    "The sbs.24576.txt file contains all of the following the pyrimidine single nucleotide variants, NNN[{C > A, G, or T} or {T > A, G, or C}]NNN. 16 (4x4) possible starting nucleotides x 16 (4x4) nucleotides x 6 pyrimidine variants x 16 (4x4) nucleotides x 16 (4x4) possible ending dinucleotides = 24576 total combinations."
   ]
  },
  {
   "cell_type": "code",
   "execution_count": 4,
   "metadata": {},
   "outputs": [
    {
     "name": "stderr",
     "output_type": "stream",
     "text": [
      "2023-12-03 18:56:57 - INFO - Creating SBS matrices!\n",
      "2023-12-03 18:56:57 - INFO - Processing VCF files: ..\\..\\data\\vcf\\WES_Other.20180327.simple, ..\\..\\data\\vcf\\WGS_Other.20180413.simple\n",
      "2023-12-03 18:57:45 - INFO - Created a large VCF containing 13093659 mutations\n",
      "2023-12-03 18:58:00 - INFO - Starting on chromosome 1\n",
      "100%|██████████| 1014649/1014649 [35:34<00:00, 475.41it/s]\n",
      "2023-12-03 19:33:35 - INFO - Finished chromosome 1\n",
      "\n",
      "2023-12-03 19:33:35 - INFO - Starting on chromosome 2\n",
      "100%|██████████| 1114031/1114031 [38:48<00:00, 478.49it/s]\n",
      "2023-12-03 20:12:23 - INFO - Finished chromosome 2\n",
      "\n",
      "2023-12-03 20:12:23 - INFO - Starting on chromosome 3\n",
      "100%|██████████| 928869/928869 [32:21<00:00, 478.36it/s]\n",
      "2023-12-03 20:44:45 - INFO - Finished chromosome 3\n",
      "\n",
      "2023-12-03 20:44:45 - INFO - Starting on chromosome 4\n",
      "100%|██████████| 953436/953436 [33:24<00:00, 475.64it/s]\n",
      "2023-12-03 21:18:10 - INFO - Finished chromosome 4\n",
      "\n",
      "2023-12-03 21:18:10 - INFO - Starting on chromosome 5\n",
      "100%|██████████| 871986/871986 [30:20<00:00, 479.00it/s]\n",
      "2023-12-03 21:48:30 - INFO - Finished chromosome 5\n",
      "\n",
      "2023-12-03 21:48:30 - INFO - Starting on chromosome 6\n",
      "100%|██████████| 748884/748884 [26:10<00:00, 476.93it/s]\n",
      "2023-12-03 22:14:40 - INFO - Finished chromosome 6\n",
      "\n",
      "2023-12-03 22:14:40 - INFO - Starting on chromosome 7\n",
      "100%|██████████| 789690/789690 [27:31<00:00, 478.10it/s]\n",
      "2023-12-03 22:42:12 - INFO - Finished chromosome 7\n",
      "\n",
      "2023-12-03 22:42:12 - INFO - Starting on chromosome 8\n",
      "100%|██████████| 805907/805907 [28:04<00:00, 478.47it/s]\n",
      "2023-12-03 23:10:17 - INFO - Finished chromosome 8\n",
      "\n",
      "2023-12-03 23:10:17 - INFO - Starting on chromosome 9\n",
      "100%|██████████| 434713/434713 [15:08<00:00, 478.44it/s]\n",
      "2023-12-03 23:25:25 - INFO - Finished chromosome 9\n",
      "\n",
      "2023-12-03 23:25:25 - INFO - Starting on chromosome 10\n",
      "100%|██████████| 567154/567154 [19:46<00:00, 478.11it/s]\n",
      "2023-12-03 23:45:12 - INFO - Finished chromosome 10\n",
      "\n",
      "2023-12-03 23:45:12 - INFO - Starting on chromosome 11\n",
      "100%|██████████| 604097/604097 [21:01<00:00, 478.85it/s]\n",
      "2023-12-04 00:06:13 - INFO - Finished chromosome 11\n",
      "\n",
      "2023-12-04 00:06:13 - INFO - Starting on chromosome 12\n",
      "100%|██████████| 580611/580611 [20:19<00:00, 476.02it/s]\n",
      "2023-12-04 00:26:33 - INFO - Finished chromosome 12\n",
      "\n",
      "2023-12-04 00:26:33 - INFO - Starting on chromosome 13\n",
      "100%|██████████| 476421/476421 [16:35<00:00, 478.58it/s]\n",
      "2023-12-04 00:43:09 - INFO - Finished chromosome 13\n",
      "\n",
      "2023-12-04 00:43:09 - INFO - Starting on chromosome 14\n",
      "100%|██████████| 410628/410628 [14:18<00:00, 478.22it/s]\n",
      "2023-12-04 00:57:27 - INFO - Finished chromosome 14\n",
      "\n",
      "2023-12-04 00:57:27 - INFO - Starting on chromosome 15\n",
      "100%|██████████| 306120/306120 [10:43<00:00, 476.06it/s]\n",
      "2023-12-04 01:08:10 - INFO - Finished chromosome 15\n",
      "\n",
      "2023-12-04 01:08:10 - INFO - Starting on chromosome 16\n",
      "100%|██████████| 361975/361975 [12:37<00:00, 477.61it/s]\n",
      "2023-12-04 01:20:48 - INFO - Finished chromosome 16\n",
      "\n",
      "2023-12-04 01:20:48 - INFO - Starting on chromosome 17\n",
      "100%|██████████| 271806/271806 [09:31<00:00, 475.97it/s]\n",
      "2023-12-04 01:30:19 - INFO - Finished chromosome 17\n",
      "\n",
      "2023-12-04 01:30:19 - INFO - Starting on chromosome 18\n",
      "100%|██████████| 401682/401682 [14:00<00:00, 478.08it/s]\n",
      "2023-12-04 01:44:20 - INFO - Finished chromosome 18\n",
      "\n",
      "2023-12-04 01:44:20 - INFO - Starting on chromosome 19\n",
      "100%|██████████| 239014/239014 [08:20<00:00, 478.00it/s]\n",
      "2023-12-04 01:52:40 - INFO - Finished chromosome 19\n",
      "\n",
      "2023-12-04 01:52:40 - INFO - Starting on chromosome 20\n",
      "100%|██████████| 288807/288807 [10:03<00:00, 478.22it/s]\n",
      "2023-12-04 02:02:44 - INFO - Finished chromosome 20\n",
      "\n",
      "2023-12-04 02:02:44 - INFO - Starting on chromosome 21\n",
      "100%|██████████| 187634/187634 [06:33<00:00, 477.39it/s]\n",
      "2023-12-04 02:09:17 - INFO - Finished chromosome 21\n",
      "\n",
      "2023-12-04 02:09:17 - INFO - Starting on chromosome 22\n",
      "100%|██████████| 119531/119531 [04:09<00:00, 478.35it/s]\n",
      "2023-12-04 02:13:27 - INFO - Finished chromosome 22\n",
      "\n",
      "2023-12-04 02:13:27 - INFO - Starting on chromosome MT\n",
      "100%|██████████| 272/272 [00:00<00:00, 460.24it/s]\n",
      "2023-12-04 02:13:27 - INFO - Finished chromosome MT\n",
      "\n",
      "2023-12-04 02:13:27 - INFO - Starting on chromosome X\n",
      "100%|██████████| 559494/559494 [19:29<00:00, 478.24it/s]\n",
      "2023-12-04 02:32:57 - INFO - Finished chromosome X\n",
      "\n",
      "2023-12-04 02:32:57 - INFO - Starting on chromosome Y\n",
      "100%|██████████| 56248/56248 [01:58<00:00, 475.45it/s]\n",
      "2023-12-04 02:34:55 - INFO - Finished chromosome Y\n",
      "\n",
      "2023-12-04 02:34:57 - INFO - Creating a SBS matrix with context: 7\n",
      "2023-12-04 02:35:03 - INFO - Written the SBS matrix with context 7 to '..\\SBS\\sbs.24576.parquet'\n",
      "2023-12-04 02:35:03 - INFO - Creating a SBS matrix with context: 5\n",
      "2023-12-04 02:35:08 - INFO - Written the SBS matrix with context 5 to '..\\SBS\\sbs.1536.parquet'\n",
      "2023-12-04 02:35:08 - INFO - Creating a SBS matrix with context: 3\n",
      "2023-12-04 02:35:09 - INFO - Written the SBS matrix with context 3 to '..\\SBS\\sbs.96.parquet'\n"
     ]
    }
   ],
   "source": [
    "# The folder of the GRCh37 files\n",
    "folder_ref_genome = folder_ref_genome_download / ref_genome\n",
    "# Folder where the SBS files will be saved to\n",
    "folder_sbs = \"../SBS\"\n",
    "# List of the VCF files\n",
    "vcf_files = [\"../../data/vcf/WES_Other.20180327.simple\", \"../../data/vcf/WGS_Other.20180413.simple\"]\n",
    "SBSMatrixGenerator.generate_sbs_matrix(folder_sbs, vcf_files, folder_ref_genome, ref_genome)"
   ]
  }
 ],
 "metadata": {
  "kernelspec": {
   "display_name": "venv",
   "language": "python",
   "name": "python3"
  },
  "language_info": {
   "codemirror_mode": {
    "name": "ipython",
    "version": 3
   },
   "file_extension": ".py",
   "mimetype": "text/x-python",
   "name": "python",
   "nbconvert_exporter": "python",
   "pygments_lexer": "ipython3",
   "version": "3.10.5"
  }
 },
 "nbformat": 4,
 "nbformat_minor": 2
}
