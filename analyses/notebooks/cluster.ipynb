{
 "cells": [
  {
   "cell_type": "code",
   "execution_count": 15,
   "metadata": {},
   "outputs": [],
   "source": [
    "import os\n",
    "from pathlib import Path\n",
    "from mubelnet.utils import holdout_split\n",
    "from jax import random\n",
    "import numpy as np\n",
    "import pandas as pd\n",
    "from sklearn.decomposition import NMF\n",
    "from mubelnet.utils import perplexity\n",
    "from statkit.non_parametric import bootstrap_score\n",
    "from GenomeSigInfer.sbs import SBSMatrixGenerator"
   ]
  },
  {
   "cell_type": "code",
   "execution_count": 16,
   "metadata": {},
   "outputs": [],
   "source": [
    "_PATH = Path(os.getcwd()).parent.parent/ \"data\" / \"vcf\"\n",
    "files = (_PATH / \"WES_Other.20180327.simple\", _PATH / \"WGS_Other.20180413.simple\")\n",
    "_NUCL_MAP = {\n",
    "    \"nucl_strength\": {\"A\": \"W\", \"T\": \"W\", \"C\": \"S\", \"G\": \"S\"},\n",
    "    \"amino\": {\"A\": \"M\", \"C\": \"M\", \"G\": \"K\", \"T\": \"K\"},\n",
    "    \"structure\": {\"A\": \"R\", \"C\": \"Y\", \"G\": \"R\", \"T\": \"Y\"},\n",
    "}"
   ]
  },
  {
   "cell_type": "code",
   "execution_count": 17,
   "metadata": {},
   "outputs": [
    {
     "name": "stdout",
     "output_type": "stream",
     "text": [
      "Couldn't find program: 'echo'\n"
     ]
    }
   ],
   "source": [
    "%%script echo skipping\n",
    "# This code was ran on the cluster due to RAM limitations\n",
    "\n",
    "def cluster_df(df: pd.DataFrame, cluster: dict[str, str], cluster_type: str) -> None:\n",
    "    \"\"\"\n",
    "    Clusters the mutation types in the given DataFrame based on the provided cluster dictionary.\n",
    "    Saves the clustered DataFrame as a parquet file.\n",
    "\n",
    "    Args:\n",
    "        df (pd.DataFrame): The DataFrame containing mutation data.\n",
    "        cluster (dict[str, str]): A dictionary mapping individual characters to their corresponding cluster.\n",
    "        cluster_type (str): The type of the DataFrame.\n",
    "\n",
    "    Returns:\n",
    "        None\n",
    "    \"\"\"\n",
    "    df_copy = df.copy()\n",
    "    df_copy[\"MutationType\"] = df_copy[\"MutationType\"].apply(\n",
    "        lambda x: \"\".join(cluster.get(c, c) for c in x[:2])\n",
    "        + x[2:-2]\n",
    "        + \"\".join(cluster.get(c, c) for c in x[-2:])\n",
    "    )\n",
    "    df_copy = df_copy.groupby(\"MutationType\").sum()\n",
    "    filename = (\n",
    "        Path(__file__).parent.parent\n",
    "        / \"sbs\"\n",
    "        / f\"sbs.{df_copy.shape[0]}.{cluster_type}.parquet\"\n",
    "    )\n",
    "    df_copy.to_parquet(filename)\n",
    "\n",
    "sbs_9_context = SBSMatrixGenerator.generate_single_sbs_matrix(\n",
    "    \"./analyses/SBS/\",\n",
    "    files,\n",
    "    \"./analyses/ref_genome/GRCh37\",\n",
    "    \"GRCh37\",\n",
    "    max_context=9,\n",
    ")\n",
    "sbs_9_context.to_parquet(\n",
    "    Path(__file__).parent.parent / \"sbs\" / f\"sbs.{sbs_9_context.shape[0]}.parquet\"\n",
    ")\n",
    "\n",
    "for cluster_type in _NUCL_MAP:\n",
    "    cluster_df(sbs_9_context, _NUCL_MAP[cluster_type], cluster_type)"
   ]
  },
  {
   "cell_type": "code",
   "execution_count": 22,
   "metadata": {},
   "outputs": [],
   "source": [
    "def calculate_bootstrap_score(all_genomes, signatures, nmf_init, beta_loss):\n",
    "    X_train, X_test = holdout_split(random.PRNGKey(42), all_genomes)\n",
    "    nmf = NMF(\n",
    "        n_components=signatures,\n",
    "        init=nmf_init,\n",
    "        beta_loss=beta_loss,\n",
    "        solver=\"cd\",\n",
    "        max_iter=10_000,\n",
    "        tol=1e-15,\n",
    "    ).fit(X_train)\n",
    "    h = nmf.transform(X_train)\n",
    "    unnormed_probs = h @ nmf.components_\n",
    "    probs_nmf = unnormed_probs / unnormed_probs.sum(axis=-1, keepdims=True)\n",
    "    # Compute performance on test set.\n",
    "    is_inf = (probs_nmf == 0) & (X_test > 0)\n",
    "    # Delete zero rows.\n",
    "    zero_rows = np.where(is_inf)[0]\n",
    "    print('Deleting rows', zero_rows)\n",
    "    X_test_subset = np.delete(X_test, zero_rows, axis=0)\n",
    "    probs_sigprof_xtrct_subset = np.delete(probs_nmf, zero_rows, axis=0)\n",
    "\n",
    "    pp_nmf = bootstrap_score(X_test_subset, probs_sigprof_xtrct_subset, metric=perplexity, random_state=43)\n",
    "    print('Perplexity on unseen observations (removed samples causing infinite perplexity)', pp_nmf)\n",
    "    print(pp_nmf.latex())\n",
    "    return pp_nmf\n",
    "\n",
    "def calculate_perplexity(filename: str | Path, signatures: int, init: None | str, beta_loss: str):\n",
    "    sbs_file = _PATH.parent.parent / \"analyses\" / \"SBS\" / filename\n",
    "    df = pd.read_parquet(sbs_file)\n",
    "    all_genomes = np.array(df.iloc[:, 1:])\n",
    "    pp_nmf = calculate_bootstrap_score(all_genomes, signatures, init, beta_loss)\n",
    "    print(pp_nmf)"
   ]
  },
  {
   "cell_type": "code",
   "execution_count": null,
   "metadata": {},
   "outputs": [],
   "source": [
    "file = \"sbs.96.parquet\"\n",
    "calculate_perplexity(file, 48, None, \"frobenius\")"
   ]
  },
  {
   "cell_type": "code",
   "execution_count": null,
   "metadata": {},
   "outputs": [],
   "source": [
    "file = \"sbs.1536.parquet\"\n",
    "calculate_perplexity(file, 48, None, \"frobenius\")"
   ]
  },
  {
   "cell_type": "code",
   "execution_count": null,
   "metadata": {},
   "outputs": [],
   "source": [
    "file = \"sbs.24576.parquet\"\n",
    "calculate_perplexity(file, 48, None, \"frobenius\")"
   ]
  },
  {
   "cell_type": "code",
   "execution_count": null,
   "metadata": {},
   "outputs": [],
   "source": [
    "file = \"sbs.24576.amino.parquett\"\n",
    "calculate_perplexity(file, 48, None, \"frobenius\")"
   ]
  },
  {
   "cell_type": "code",
   "execution_count": null,
   "metadata": {},
   "outputs": [],
   "source": [
    "file = \"sbs.24576.nucl_strength.parquet\"\n",
    "calculate_perplexity(file, 48, None, \"frobenius\")"
   ]
  },
  {
   "cell_type": "code",
   "execution_count": null,
   "metadata": {},
   "outputs": [],
   "source": [
    "file = \"sbs.24576.structure.parquet\"\n",
    "calculate_perplexity(file, 48, None, \"frobenius\")"
   ]
  }
 ],
 "metadata": {
  "kernelspec": {
   "display_name": "venv",
   "language": "python",
   "name": "python3"
  },
  "language_info": {
   "codemirror_mode": {
    "name": "ipython",
    "version": 3
   },
   "file_extension": ".py",
   "mimetype": "text/x-python",
   "name": "python",
   "nbconvert_exporter": "python",
   "pygments_lexer": "ipython3",
   "version": "3.10.4"
  }
 },
 "nbformat": 4,
 "nbformat_minor": 2
}
